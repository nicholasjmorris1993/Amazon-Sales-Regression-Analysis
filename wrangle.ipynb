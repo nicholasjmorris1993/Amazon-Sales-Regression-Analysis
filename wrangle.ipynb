{
 "cells": [
  {
   "cell_type": "code",
   "execution_count": 1,
   "id": "0d5ddb8e-7c07-4949-810c-4b5502bb3e82",
   "metadata": {
    "tags": []
   },
   "outputs": [
    {
     "name": "stdout",
     "output_type": "stream",
     "text": [
      "Requirement already satisfied: nltk in /opt/conda/envs/sagemaker-distribution/lib/python3.8/site-packages (3.8.1)\n",
      "Requirement already satisfied: click in /opt/conda/envs/sagemaker-distribution/lib/python3.8/site-packages (from nltk) (8.1.6)\n",
      "Requirement already satisfied: joblib in /opt/conda/envs/sagemaker-distribution/lib/python3.8/site-packages (from nltk) (1.3.0)\n",
      "Requirement already satisfied: regex>=2021.8.3 in /opt/conda/envs/sagemaker-distribution/lib/python3.8/site-packages (from nltk) (2023.10.3)\n",
      "Requirement already satisfied: tqdm in /opt/conda/envs/sagemaker-distribution/lib/python3.8/site-packages (from nltk) (4.65.0)\n",
      "Note: you may need to restart the kernel to use updated packages.\n"
     ]
    }
   ],
   "source": [
    "%pip install nltk"
   ]
  },
  {
   "cell_type": "code",
   "execution_count": 2,
   "id": "8b051e8c-089d-4c0a-bdf8-9a1d0f86a6a4",
   "metadata": {
    "tags": []
   },
   "outputs": [
    {
     "name": "stderr",
     "output_type": "stream",
     "text": [
      "[nltk_data] Downloading package vader_lexicon to /home/studio-lab-\n",
      "[nltk_data]     user/nltk_data...\n",
      "[nltk_data]   Package vader_lexicon is already up-to-date!\n"
     ]
    }
   ],
   "source": [
    "import pandas as pd\n",
    "import nltk\n",
    "nltk.download(\"vader_lexicon\")\n",
    "from nltk.sentiment import SentimentIntensityAnalyzer"
   ]
  },
  {
   "cell_type": "code",
   "execution_count": 3,
   "id": "32da91cf-563e-4206-97d7-6a3c7af2bcfa",
   "metadata": {
    "tags": []
   },
   "outputs": [],
   "source": [
    "# get the data\n",
    "df = pd.read_csv(\"Amazon.csv\")"
   ]
  },
  {
   "cell_type": "code",
   "execution_count": 4,
   "id": "dbb40078-fcbf-424e-b1cf-8b054aa90608",
   "metadata": {
    "tags": []
   },
   "outputs": [
    {
     "data": {
      "text/html": [
       "<div>\n",
       "<style scoped>\n",
       "    .dataframe tbody tr th:only-of-type {\n",
       "        vertical-align: middle;\n",
       "    }\n",
       "\n",
       "    .dataframe tbody tr th {\n",
       "        vertical-align: top;\n",
       "    }\n",
       "\n",
       "    .dataframe thead th {\n",
       "        text-align: right;\n",
       "    }\n",
       "</style>\n",
       "<table border=\"1\" class=\"dataframe\">\n",
       "  <thead>\n",
       "    <tr style=\"text-align: right;\">\n",
       "      <th></th>\n",
       "      <th>product_id</th>\n",
       "      <th>product_name</th>\n",
       "      <th>category</th>\n",
       "      <th>discounted_price</th>\n",
       "      <th>actual_price</th>\n",
       "      <th>discount_percentage</th>\n",
       "      <th>rating</th>\n",
       "      <th>rating_count</th>\n",
       "      <th>about_product</th>\n",
       "      <th>user_id</th>\n",
       "      <th>user_name</th>\n",
       "      <th>review_id</th>\n",
       "      <th>review_title</th>\n",
       "      <th>review_content</th>\n",
       "      <th>img_link</th>\n",
       "      <th>product_link</th>\n",
       "    </tr>\n",
       "  </thead>\n",
       "  <tbody>\n",
       "    <tr>\n",
       "      <th>0</th>\n",
       "      <td>B002PD61Y4</td>\n",
       "      <td>D-Link DWA-131 300 Mbps Wireless Nano USB Adap...</td>\n",
       "      <td>Computers&amp;Accessories|NetworkingDevices|Networ...</td>\n",
       "      <td>₹507</td>\n",
       "      <td>₹1,208</td>\n",
       "      <td>58%</td>\n",
       "      <td>4.1</td>\n",
       "      <td>8,131</td>\n",
       "      <td>Connects your computer to a high-speed wireles...</td>\n",
       "      <td>AGA2PZGWMQIRA46VYOTICFE7KCBA,AHI2QJ4CLTCQWACDI...</td>\n",
       "      <td>nilesh,EAGLE,Manoj KNS,Titus P.,Paras singla,a...</td>\n",
       "      <td>R2EJIN3N3L3XKI,R2JMJ8QNG66LV4,R3B46JNPC2T4E7,R...</td>\n",
       "      <td>good tool to use for,Brand is always good,Over...</td>\n",
       "      <td>good quality tool from d linkWiFi signal is go...</td>\n",
       "      <td>https://m.media-amazon.com/images/I/31+NwZ8gb1...</td>\n",
       "      <td>https://www.amazon.in/D-Link-DWA-131-Wireless-...</td>\n",
       "    </tr>\n",
       "    <tr>\n",
       "      <th>1</th>\n",
       "      <td>B002PD61Y4</td>\n",
       "      <td>D-Link DWA-131 300 Mbps Wireless Nano USB Adap...</td>\n",
       "      <td>Computers&amp;Accessories|NetworkingDevices|Networ...</td>\n",
       "      <td>₹507</td>\n",
       "      <td>₹1,208</td>\n",
       "      <td>58%</td>\n",
       "      <td>4.1</td>\n",
       "      <td>8,131</td>\n",
       "      <td>Connects your computer to a high-speed wireles...</td>\n",
       "      <td>AGA2PZGWMQIRA46VYOTICFE7KCBA,AHI2QJ4CLTCQWACDI...</td>\n",
       "      <td>nilesh,EAGLE,Manoj KNS,Titus P.,Paras singla,a...</td>\n",
       "      <td>R2EJIN3N3L3XKI,R2JMJ8QNG66LV4,R3B46JNPC2T4E7,R...</td>\n",
       "      <td>good tool to use for,Brand is always good,Over...</td>\n",
       "      <td>good quality tool from d linkWiFi signal is go...</td>\n",
       "      <td>https://m.media-amazon.com/images/W/WEBP_40237...</td>\n",
       "      <td>https://www.amazon.in/D-Link-DWA-131-Wireless-...</td>\n",
       "    </tr>\n",
       "    <tr>\n",
       "      <th>2</th>\n",
       "      <td>B002SZEOLG</td>\n",
       "      <td>TP-Link Nano USB WiFi Dongle 150Mbps High Gain...</td>\n",
       "      <td>Computers&amp;Accessories|NetworkingDevices|Networ...</td>\n",
       "      <td>₹749</td>\n",
       "      <td>₹1,339</td>\n",
       "      <td>44%</td>\n",
       "      <td>4.2</td>\n",
       "      <td>1,79,692</td>\n",
       "      <td>150 Mbps Wi-Fi —— Exceptional wireless speed u...</td>\n",
       "      <td>AGV3IEFANZCKECFGUM42MRH5FNOA,AEBO7NWCNXKT4AESA...</td>\n",
       "      <td>Azhar JuMan,Anirudh Sood,Hari Krishnan PS,Akas...</td>\n",
       "      <td>R1LW6NWSVTVZ2H,R3VR5WFKUS15C5,R2F6GC79OYWUKQ,R...</td>\n",
       "      <td>Works on linux for me. Get the model with ante...</td>\n",
       "      <td>I use this to connect an old PC to internet. I...</td>\n",
       "      <td>https://m.media-amazon.com/images/I/31Wb+A3VVd...</td>\n",
       "      <td>https://www.amazon.in/TP-Link-TL-WN722N-150Mbp...</td>\n",
       "    </tr>\n",
       "    <tr>\n",
       "      <th>3</th>\n",
       "      <td>B003B00484</td>\n",
       "      <td>Duracell Plus AAA Rechargeable Batteries (750 ...</td>\n",
       "      <td>Electronics|GeneralPurposeBatteries&amp;BatteryCha...</td>\n",
       "      <td>₹399</td>\n",
       "      <td>₹499</td>\n",
       "      <td>20%</td>\n",
       "      <td>4.3</td>\n",
       "      <td>27,201</td>\n",
       "      <td>Duracell Rechargeable AAA 750mAh batteries sta...</td>\n",
       "      <td>AG2ICOYPSOV5SGBKFEYHGKCNK7PA,AGJ3OQ4X262D3MAQZ...</td>\n",
       "      <td>T N Sivaji,Akku,V,Meet,MOHAMMED,Niranjan koyri...</td>\n",
       "      <td>R5L3FAFS6JXJF,R1VTQ25LXQX5UD,R6RJYAZUM5240,R1S...</td>\n",
       "      <td>Works Good,Perfect replacement cell for trimme...</td>\n",
       "      <td>Works good,Bought it to replace my Phillips QT...</td>\n",
       "      <td>https://m.media-amazon.com/images/I/418YrbHVLC...</td>\n",
       "      <td>https://www.amazon.in/Duracell-AAA-750mAh-Rech...</td>\n",
       "    </tr>\n",
       "    <tr>\n",
       "      <th>4</th>\n",
       "      <td>B003L62T7W</td>\n",
       "      <td>Logitech B100 Wired USB Mouse, 3 yr Warranty, ...</td>\n",
       "      <td>Computers&amp;Accessories|Accessories&amp;Peripherals|...</td>\n",
       "      <td>₹279</td>\n",
       "      <td>₹375</td>\n",
       "      <td>26%</td>\n",
       "      <td>4.3</td>\n",
       "      <td>31,534</td>\n",
       "      <td>A comfortable, ambidextrous shape feels good i...</td>\n",
       "      <td>AE6DY6YWTSSE3XNHDXZDGQM2JL2Q,AES3UPSNCD37JZLHZ...</td>\n",
       "      <td>Uday Joglekar,Simi Singh,Hi,chirag bansal,Swar...</td>\n",
       "      <td>R3U9FRV2Q625DO,R3EJZ83W9OHW3D,RSH53O0JL66NL,R3...</td>\n",
       "      <td>Handy Mouse,Good quality mouse,Good one.,Good,...</td>\n",
       "      <td>Liked this Product,https://m.media-amazon.com/...</td>\n",
       "      <td>https://m.media-amazon.com/images/I/31iFF1Kbkp...</td>\n",
       "      <td>https://www.amazon.in/Logitech-B100-Optical-Mo...</td>\n",
       "    </tr>\n",
       "  </tbody>\n",
       "</table>\n",
       "</div>"
      ],
      "text/plain": [
       "   product_id                                       product_name  \\\n",
       "0  B002PD61Y4  D-Link DWA-131 300 Mbps Wireless Nano USB Adap...   \n",
       "1  B002PD61Y4  D-Link DWA-131 300 Mbps Wireless Nano USB Adap...   \n",
       "2  B002SZEOLG  TP-Link Nano USB WiFi Dongle 150Mbps High Gain...   \n",
       "3  B003B00484  Duracell Plus AAA Rechargeable Batteries (750 ...   \n",
       "4  B003L62T7W  Logitech B100 Wired USB Mouse, 3 yr Warranty, ...   \n",
       "\n",
       "                                            category discounted_price  \\\n",
       "0  Computers&Accessories|NetworkingDevices|Networ...             ₹507   \n",
       "1  Computers&Accessories|NetworkingDevices|Networ...             ₹507   \n",
       "2  Computers&Accessories|NetworkingDevices|Networ...             ₹749   \n",
       "3  Electronics|GeneralPurposeBatteries&BatteryCha...             ₹399   \n",
       "4  Computers&Accessories|Accessories&Peripherals|...             ₹279   \n",
       "\n",
       "  actual_price discount_percentage rating rating_count  \\\n",
       "0       ₹1,208                 58%    4.1        8,131   \n",
       "1       ₹1,208                 58%    4.1        8,131   \n",
       "2       ₹1,339                 44%    4.2     1,79,692   \n",
       "3         ₹499                 20%    4.3       27,201   \n",
       "4         ₹375                 26%    4.3       31,534   \n",
       "\n",
       "                                       about_product  \\\n",
       "0  Connects your computer to a high-speed wireles...   \n",
       "1  Connects your computer to a high-speed wireles...   \n",
       "2  150 Mbps Wi-Fi —— Exceptional wireless speed u...   \n",
       "3  Duracell Rechargeable AAA 750mAh batteries sta...   \n",
       "4  A comfortable, ambidextrous shape feels good i...   \n",
       "\n",
       "                                             user_id  \\\n",
       "0  AGA2PZGWMQIRA46VYOTICFE7KCBA,AHI2QJ4CLTCQWACDI...   \n",
       "1  AGA2PZGWMQIRA46VYOTICFE7KCBA,AHI2QJ4CLTCQWACDI...   \n",
       "2  AGV3IEFANZCKECFGUM42MRH5FNOA,AEBO7NWCNXKT4AESA...   \n",
       "3  AG2ICOYPSOV5SGBKFEYHGKCNK7PA,AGJ3OQ4X262D3MAQZ...   \n",
       "4  AE6DY6YWTSSE3XNHDXZDGQM2JL2Q,AES3UPSNCD37JZLHZ...   \n",
       "\n",
       "                                           user_name  \\\n",
       "0  nilesh,EAGLE,Manoj KNS,Titus P.,Paras singla,a...   \n",
       "1  nilesh,EAGLE,Manoj KNS,Titus P.,Paras singla,a...   \n",
       "2  Azhar JuMan,Anirudh Sood,Hari Krishnan PS,Akas...   \n",
       "3  T N Sivaji,Akku,V,Meet,MOHAMMED,Niranjan koyri...   \n",
       "4  Uday Joglekar,Simi Singh,Hi,chirag bansal,Swar...   \n",
       "\n",
       "                                           review_id  \\\n",
       "0  R2EJIN3N3L3XKI,R2JMJ8QNG66LV4,R3B46JNPC2T4E7,R...   \n",
       "1  R2EJIN3N3L3XKI,R2JMJ8QNG66LV4,R3B46JNPC2T4E7,R...   \n",
       "2  R1LW6NWSVTVZ2H,R3VR5WFKUS15C5,R2F6GC79OYWUKQ,R...   \n",
       "3  R5L3FAFS6JXJF,R1VTQ25LXQX5UD,R6RJYAZUM5240,R1S...   \n",
       "4  R3U9FRV2Q625DO,R3EJZ83W9OHW3D,RSH53O0JL66NL,R3...   \n",
       "\n",
       "                                        review_title  \\\n",
       "0  good tool to use for,Brand is always good,Over...   \n",
       "1  good tool to use for,Brand is always good,Over...   \n",
       "2  Works on linux for me. Get the model with ante...   \n",
       "3  Works Good,Perfect replacement cell for trimme...   \n",
       "4  Handy Mouse,Good quality mouse,Good one.,Good,...   \n",
       "\n",
       "                                      review_content  \\\n",
       "0  good quality tool from d linkWiFi signal is go...   \n",
       "1  good quality tool from d linkWiFi signal is go...   \n",
       "2  I use this to connect an old PC to internet. I...   \n",
       "3  Works good,Bought it to replace my Phillips QT...   \n",
       "4  Liked this Product,https://m.media-amazon.com/...   \n",
       "\n",
       "                                            img_link  \\\n",
       "0  https://m.media-amazon.com/images/I/31+NwZ8gb1...   \n",
       "1  https://m.media-amazon.com/images/W/WEBP_40237...   \n",
       "2  https://m.media-amazon.com/images/I/31Wb+A3VVd...   \n",
       "3  https://m.media-amazon.com/images/I/418YrbHVLC...   \n",
       "4  https://m.media-amazon.com/images/I/31iFF1Kbkp...   \n",
       "\n",
       "                                        product_link  \n",
       "0  https://www.amazon.in/D-Link-DWA-131-Wireless-...  \n",
       "1  https://www.amazon.in/D-Link-DWA-131-Wireless-...  \n",
       "2  https://www.amazon.in/TP-Link-TL-WN722N-150Mbp...  \n",
       "3  https://www.amazon.in/Duracell-AAA-750mAh-Rech...  \n",
       "4  https://www.amazon.in/Logitech-B100-Optical-Mo...  "
      ]
     },
     "execution_count": 4,
     "metadata": {},
     "output_type": "execute_result"
    }
   ],
   "source": [
    "# check out the data\n",
    "df.head()"
   ]
  },
  {
   "cell_type": "code",
   "execution_count": 5,
   "id": "87500feb-d800-4c1a-bab8-090457ccd7db",
   "metadata": {
    "tags": []
   },
   "outputs": [],
   "source": [
    "# remove unnecessary columns\n",
    "df = df.drop(columns=[\"discounted_price\", \"user_id\", \"user_name\", \"review_id\", \"img_link\", \"product_link\"])"
   ]
  },
  {
   "cell_type": "code",
   "execution_count": 6,
   "id": "ef51ed76-9c61-4286-bb48-dc54ca76fa04",
   "metadata": {
    "tags": []
   },
   "outputs": [],
   "source": [
    "# get the first word from product_name\n",
    "word = list()\n",
    "for item in df[\"product_name\"]:\n",
    "    word.append(item.split(\" \")[0])\n",
    "df[\"product_name\"] = word"
   ]
  },
  {
   "cell_type": "code",
   "execution_count": 7,
   "id": "b5d39bce-da11-41a1-a180-bc6c0204c690",
   "metadata": {
    "tags": []
   },
   "outputs": [],
   "source": [
    "# get the first section from category\n",
    "section = list()\n",
    "for item in df[\"category\"]:\n",
    "    section.append(item.split(\"|\")[0])\n",
    "df[\"category\"] = section"
   ]
  },
  {
   "cell_type": "code",
   "execution_count": 8,
   "id": "47aa8e37-6d56-403e-af01-d132a2a3ec25",
   "metadata": {
    "tags": []
   },
   "outputs": [],
   "source": [
    "# convert actual_price to a float\n",
    "df[\"actual_price\"] = df[\"actual_price\"].str.replace(\"₹\", \"\")\n",
    "df[\"actual_price\"] = df[\"actual_price\"].str.replace(\",\", \"\")\n",
    "df[\"actual_price\"] = df[\"actual_price\"].astype(float)"
   ]
  },
  {
   "cell_type": "code",
   "execution_count": 9,
   "id": "a2158353-76f9-49ad-89ee-27c2b876399d",
   "metadata": {
    "tags": []
   },
   "outputs": [],
   "source": [
    "# convert discount_percentage to a float\n",
    "df[\"discount_percentage\"] = df[\"discount_percentage\"].str.replace(\"%\", \"\")\n",
    "df[\"discount_percentage\"] = df[\"discount_percentage\"].astype(float) / 100"
   ]
  },
  {
   "cell_type": "code",
   "execution_count": 10,
   "id": "9c7c3201-b31b-431b-9acb-244112a94613",
   "metadata": {
    "tags": []
   },
   "outputs": [],
   "source": [
    "# convert rating to a float\n",
    "df[\"rating\"] = df[\"rating\"].str.replace(\"|\", \"NaN\")\n",
    "df[\"rating\"] = df[\"rating\"].astype(float)"
   ]
  },
  {
   "cell_type": "code",
   "execution_count": 11,
   "id": "3ab9fbba-a42d-446e-9531-b631feabeaff",
   "metadata": {
    "tags": []
   },
   "outputs": [],
   "source": [
    "# convert rating_count to a float\n",
    "df[\"rating_count\"] = df[\"rating_count\"].str.replace(\",\", \"\")\n",
    "df[\"rating_count\"] = df[\"rating_count\"].astype(float)"
   ]
  },
  {
   "cell_type": "code",
   "execution_count": 12,
   "id": "10e32cda-c0e8-4400-b627-1c6e8c5be569",
   "metadata": {
    "tags": []
   },
   "outputs": [],
   "source": [
    "# get the positivity of about_product\n",
    "sia = SentimentIntensityAnalyzer()\n",
    "positivity = list()\n",
    "for item in df[\"about_product\"]:\n",
    "    positivity.append(sia.polarity_scores(item)[\"compound\"])\n",
    "df[\"about_product_positivity\"] = positivity\n",
    "df = df.drop(columns=\"about_product\")"
   ]
  },
  {
   "cell_type": "code",
   "execution_count": 13,
   "id": "d46bcb43-8d3b-4af8-b7e5-d9f2275f4073",
   "metadata": {
    "tags": []
   },
   "outputs": [],
   "source": [
    "# get the positivity of review_title\n",
    "positivity = list()\n",
    "for item in df[\"review_title\"]:\n",
    "    positivity.append(sia.polarity_scores(item)[\"compound\"])\n",
    "df[\"review_title_positivity\"] = positivity\n",
    "df = df.drop(columns=\"review_title\")"
   ]
  },
  {
   "cell_type": "code",
   "execution_count": 14,
   "id": "d6364ef0-df66-4d9f-891b-fdffdd151347",
   "metadata": {
    "tags": []
   },
   "outputs": [],
   "source": [
    "# get the positivity of review_content\n",
    "positivity = list()\n",
    "for item in df[\"review_content\"]:\n",
    "    positivity.append(sia.polarity_scores(item)[\"compound\"])\n",
    "df[\"review_content_positivity\"] = positivity\n",
    "df = df.drop(columns=\"review_content\")"
   ]
  },
  {
   "cell_type": "code",
   "execution_count": 15,
   "id": "481ca88d-07c4-4d9b-8a0b-773660898942",
   "metadata": {
    "tags": []
   },
   "outputs": [],
   "source": [
    "# aggregate the strings by product_id\n",
    "strings = df.groupby(\"product_id\")[[\"product_id\", \"product_name\", \"category\"]].head(1)\n",
    "strings = strings.sort_values(by=\"product_id\").reset_index(drop=True)"
   ]
  },
  {
   "cell_type": "code",
   "execution_count": 16,
   "id": "f79e563b-4346-4726-adcc-94510c306bd7",
   "metadata": {
    "tags": []
   },
   "outputs": [],
   "source": [
    "# aggregate the numbers by product_id\n",
    "df = df.groupby(\"product_id\").agg({\n",
    "    \"actual_price\": \"mean\",\n",
    "    \"discount_percentage\": \"mean\",\n",
    "    \"rating\": \"mean\",\n",
    "    \"rating_count\": \"mean\",\n",
    "    \"about_product_positivity\": \"mean\",\n",
    "    \"review_title_positivity\": \"mean\",\n",
    "    \"review_content_positivity\": \"mean\",\n",
    "}).reset_index()\n",
    "df = df.sort_values(by=\"product_id\").reset_index(drop=True)"
   ]
  },
  {
   "cell_type": "code",
   "execution_count": 17,
   "id": "e7b37258-7e8c-4aa3-85ea-4cb1e7668418",
   "metadata": {
    "tags": []
   },
   "outputs": [],
   "source": [
    "# add the strings back to the data\n",
    "df = pd.concat([strings, df.drop(columns=\"product_id\")], axis=\"columns\")"
   ]
  },
  {
   "cell_type": "code",
   "execution_count": 18,
   "id": "bb4ec87b-fded-4e3f-868a-3463466c45e4",
   "metadata": {
    "tags": []
   },
   "outputs": [],
   "source": [
    "# remove the product_id\n",
    "df = df.drop(columns=\"product_id\")"
   ]
  },
  {
   "cell_type": "code",
   "execution_count": 19,
   "id": "d1ae26aa-11b7-4546-9a7f-b66976d30ace",
   "metadata": {},
   "outputs": [],
   "source": [
    "# shuffle the data\n",
    "df = df.sample(frac=1, random_state=0).reset_index(drop=True)"
   ]
  },
  {
   "cell_type": "code",
   "execution_count": 20,
   "id": "be1406ff-cf61-4494-984b-1b58ed58ab40",
   "metadata": {
    "tags": []
   },
   "outputs": [
    {
     "data": {
      "text/html": [
       "<div>\n",
       "<style scoped>\n",
       "    .dataframe tbody tr th:only-of-type {\n",
       "        vertical-align: middle;\n",
       "    }\n",
       "\n",
       "    .dataframe tbody tr th {\n",
       "        vertical-align: top;\n",
       "    }\n",
       "\n",
       "    .dataframe thead th {\n",
       "        text-align: right;\n",
       "    }\n",
       "</style>\n",
       "<table border=\"1\" class=\"dataframe\">\n",
       "  <thead>\n",
       "    <tr style=\"text-align: right;\">\n",
       "      <th></th>\n",
       "      <th>product_name</th>\n",
       "      <th>category</th>\n",
       "      <th>actual_price</th>\n",
       "      <th>discount_percentage</th>\n",
       "      <th>rating</th>\n",
       "      <th>rating_count</th>\n",
       "      <th>about_product_positivity</th>\n",
       "      <th>review_title_positivity</th>\n",
       "      <th>review_content_positivity</th>\n",
       "    </tr>\n",
       "  </thead>\n",
       "  <tbody>\n",
       "    <tr>\n",
       "      <th>0</th>\n",
       "      <td>boAt</td>\n",
       "      <td>Electronics</td>\n",
       "      <td>4490.0</td>\n",
       "      <td>0.67</td>\n",
       "      <td>3.9</td>\n",
       "      <td>136954.0</td>\n",
       "      <td>0.9552</td>\n",
       "      <td>-0.7263</td>\n",
       "      <td>0.9993</td>\n",
       "    </tr>\n",
       "    <tr>\n",
       "      <th>1</th>\n",
       "      <td>Hilton</td>\n",
       "      <td>Home&amp;Kitchen</td>\n",
       "      <td>1899.0</td>\n",
       "      <td>0.39</td>\n",
       "      <td>3.5</td>\n",
       "      <td>24.0</td>\n",
       "      <td>0.4404</td>\n",
       "      <td>0.0000</td>\n",
       "      <td>0.9875</td>\n",
       "    </tr>\n",
       "    <tr>\n",
       "      <th>2</th>\n",
       "      <td>Kuber</td>\n",
       "      <td>Home&amp;Kitchen</td>\n",
       "      <td>199.0</td>\n",
       "      <td>0.11</td>\n",
       "      <td>4.1</td>\n",
       "      <td>3688.0</td>\n",
       "      <td>0.8876</td>\n",
       "      <td>0.2382</td>\n",
       "      <td>0.7778</td>\n",
       "    </tr>\n",
       "    <tr>\n",
       "      <th>3</th>\n",
       "      <td>GIZGA</td>\n",
       "      <td>Computers&amp;Accessories</td>\n",
       "      <td>299.0</td>\n",
       "      <td>0.87</td>\n",
       "      <td>3.5</td>\n",
       "      <td>15233.0</td>\n",
       "      <td>0.6369</td>\n",
       "      <td>0.7220</td>\n",
       "      <td>0.9647</td>\n",
       "    </tr>\n",
       "    <tr>\n",
       "      <th>4</th>\n",
       "      <td>LOHAYA</td>\n",
       "      <td>Electronics</td>\n",
       "      <td>1199.0</td>\n",
       "      <td>0.75</td>\n",
       "      <td>3.7</td>\n",
       "      <td>490.0</td>\n",
       "      <td>0.4588</td>\n",
       "      <td>0.8126</td>\n",
       "      <td>0.9554</td>\n",
       "    </tr>\n",
       "  </tbody>\n",
       "</table>\n",
       "</div>"
      ],
      "text/plain": [
       "  product_name               category  actual_price  discount_percentage  \\\n",
       "0         boAt            Electronics        4490.0                 0.67   \n",
       "1       Hilton           Home&Kitchen        1899.0                 0.39   \n",
       "2        Kuber           Home&Kitchen         199.0                 0.11   \n",
       "3        GIZGA  Computers&Accessories         299.0                 0.87   \n",
       "4       LOHAYA            Electronics        1199.0                 0.75   \n",
       "\n",
       "   rating  rating_count  about_product_positivity  review_title_positivity  \\\n",
       "0     3.9      136954.0                    0.9552                  -0.7263   \n",
       "1     3.5          24.0                    0.4404                   0.0000   \n",
       "2     4.1        3688.0                    0.8876                   0.2382   \n",
       "3     3.5       15233.0                    0.6369                   0.7220   \n",
       "4     3.7         490.0                    0.4588                   0.8126   \n",
       "\n",
       "   review_content_positivity  \n",
       "0                     0.9993  \n",
       "1                     0.9875  \n",
       "2                     0.7778  \n",
       "3                     0.9647  \n",
       "4                     0.9554  "
      ]
     },
     "execution_count": 20,
     "metadata": {},
     "output_type": "execute_result"
    }
   ],
   "source": [
    "# check out the data\n",
    "df.head()"
   ]
  },
  {
   "cell_type": "code",
   "execution_count": 21,
   "id": "7f91d2fa-ab8c-4bdd-8c6f-1a9b2a0e06fa",
   "metadata": {
    "tags": []
   },
   "outputs": [],
   "source": [
    "# export the data\n",
    "df.to_csv(\"sales.csv\", index=False)"
   ]
  }
 ],
 "metadata": {
  "kernelspec": {
   "display_name": "sagemaker-distribution:Python",
   "language": "python",
   "name": "conda-env-sagemaker-distribution-py"
  },
  "language_info": {
   "codemirror_mode": {
    "name": "ipython",
    "version": 3
   },
   "file_extension": ".py",
   "mimetype": "text/x-python",
   "name": "python",
   "nbconvert_exporter": "python",
   "pygments_lexer": "ipython3",
   "version": "3.8.17"
  }
 },
 "nbformat": 4,
 "nbformat_minor": 5
}
